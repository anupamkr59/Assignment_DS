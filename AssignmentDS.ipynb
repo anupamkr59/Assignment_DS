{
  "nbformat": 4,
  "nbformat_minor": 0,
  "metadata": {
    "colab": {
      "provenance": []
    },
    "kernelspec": {
      "name": "python3",
      "display_name": "Python 3"
    },
    "language_info": {
      "name": "python"
    }
  },
  "cells": [
    {
      "cell_type": "markdown",
      "source": [
        "1. What are data structures, and why are they important?\n",
        "\n",
        "Ans. A data structure is a way of organizing, storing, and managing data to perform operations efficiently. It defines how different operations (like accessing, searching, inserting, or deleting data) can be performed on it.\n",
        "It is important because of the scability, data management, code reusability and optimized performance"
      ],
      "metadata": {
        "id": "PsO0sk9eoULj"
      }
    },
    {
      "cell_type": "markdown",
      "source": [
        "2. Explain the difference between mutable and immutable data types with examples\n",
        "\n",
        "Ans. Mutable data types- List, Set and Dict are the types of mutable data types as it can be changed or modified and are stored in heap memory.\n",
        "\n",
        "Immutable data types- String and Tuples are the types of immutable data types as it can't be changed or modified and are stored in stack memory."
      ],
      "metadata": {
        "id": "yd7jCC93pm86"
      }
    },
    {
      "cell_type": "markdown",
      "source": [
        "3. What are the main differences between lists and tuples in Python\n",
        "\n",
        "Ans. Difference between lists and tuples:\n",
        "a. List is mutable data type while Tuples are immutable data types\n",
        "b. List can be modified whereas Tuples can't be modified\n",
        "c. List are slower compared to Tuples\n",
        "d. List syntax:- lis[] and Tuple Syntax:- Tup()"
      ],
      "metadata": {
        "id": "jwDZWoCMQH__"
      }
    },
    {
      "cell_type": "markdown",
      "source": [
        "4. Describe how dictionaries store data\n",
        "\n",
        "Ans. Dictionaries store data in key value pair.\n",
        "ex:- dic{\"name\":\"anupam\",\"age\":25}"
      ],
      "metadata": {
        "id": "szZAspRFS3AF"
      }
    },
    {
      "cell_type": "markdown",
      "source": [
        "5. Why might you use a set instead of a list in Python\n",
        "\n",
        "Ans.Set is used instead of list as set stores unordered collection of unique elements. Also, set operation are faster than list."
      ],
      "metadata": {
        "id": "PhOurHIDTtKP"
      }
    },
    {
      "cell_type": "markdown",
      "source": [
        "6. What is a string in Python, and how is it different from a list\n",
        "\n",
        "Ans. String is a sequence of characters and list is a collection of different data types as int, float ,string etc.\n",
        "ex:- String :- \"Anupam Kumar\"\n",
        "List :- [1,2,\"Anupam\",3.4,5+8j,True]"
      ],
      "metadata": {
        "id": "IF5EN4KmUnIZ"
      }
    },
    {
      "cell_type": "markdown",
      "source": [
        "7. How do tuples ensure data integrity in Python\n",
        "\n",
        "Ans. Tuples cannot be changed or modified, hence ensures data integrity.\n",
        "ex:- Employee_id=(2496,4357,5679)\n"
      ],
      "metadata": {
        "id": "3ZP89qGBVMpg"
      }
    },
    {
      "cell_type": "markdown",
      "source": [
        "8. What is a hash table, and how does it relate to dictionaries in Python\n",
        "\n",
        "Ans. A hash table is a data structure that stores key-value pairs and allows fast lookups, insertions, and deletions. It works by using a hash function to compute an index where the key-value pair is stored in memory."
      ],
      "metadata": {
        "id": "sKMg-kIXcQXu"
      }
    },
    {
      "cell_type": "markdown",
      "source": [
        "9. Can lists contain different data types in Python\n",
        "\n",
        "Ans. Yes, list can contain integer, float, list, string, tuple etc"
      ],
      "metadata": {
        "id": "DvmvYE9Icj38"
      }
    },
    {
      "cell_type": "markdown",
      "source": [
        " 10. Explain why strings are immutable in Python\n",
        "\n",
        " Ans. Strings are immutable as it can't be modified and python creates a new string instead of modifying the original string\n"
      ],
      "metadata": {
        "id": "Py1okBV-dEtk"
      }
    },
    {
      "cell_type": "markdown",
      "source": [
        "11. What advantages do dictionaries offer over lists for certain tasks\n",
        "\n",
        "Ans. Dict offers Faster lookups 0(1)-constant time as they use hash tables whereas List offers 0(n) linear time search as element is searched one by one\n",
        "\n",
        "Dict doesn't requires manual indexing as it stores data in form of key-value pair\n",
        "\n"
      ],
      "metadata": {
        "id": "sn2Wi8WAdpF9"
      }
    },
    {
      "cell_type": "markdown",
      "source": [
        "12. Describe a scenario where using a tuple would be preferable over a list\n",
        "\n",
        "Ans. As Tuple is immutable, it can be used to store the collection of unchanged data over list as AAdhar Number or Employee ID.\n",
        "Also, collection of fixed configuration or coordinates of place will require Tuple instead of List"
      ],
      "metadata": {
        "id": "iaUYx2HMe25J"
      }
    },
    {
      "cell_type": "markdown",
      "source": [
        "13. How do sets handle duplicate values in Python\n",
        "\n",
        "Ans. Duplicate values are removed automatically in set as set is an unordered collection of unique elements.\n"
      ],
      "metadata": {
        "id": "FCdr7YVnfmSR"
      }
    },
    {
      "cell_type": "markdown",
      "source": [
        "14. How does the “in” keyword work differently for lists and dictionaries\n",
        "\n",
        "Ans. The \"in\" keyword is used as membership operator in Python.\n",
        "In list it is used to check the existence of element one by one whereas in Dictonaries it checks only the keys and not the values."
      ],
      "metadata": {
        "id": "pe9NQbSagGZz"
      }
    },
    {
      "cell_type": "markdown",
      "source": [
        "15. Can you modify the elements of a tuple? Explain why or why not\n",
        "\n",
        "Ans. No we can't modify the elements of a tuple as Tuple is immutable"
      ],
      "metadata": {
        "id": "a7n22yllg5IZ"
      }
    },
    {
      "cell_type": "markdown",
      "source": [
        "16. What is a nested dictionary, and give an example of its use case\n",
        "\n",
        "Ans. A nested dictionary is a dictionary inside another dictionary. It store structured data in a hierarchical format.\n",
        "\n",
        "ex:- students = {\n",
        "    \"101\": {\"name\": \"Anupam\", \"age\": 27, \"grades\": {\"math\": 90, \"science\": 97}},\n",
        "    \"102\": {\"name\": \"Rupam\", \"age\": 28, \"grades\": {\"math\": 76, \"science\": 98}},\n",
        "}"
      ],
      "metadata": {
        "id": "xkNIMzLfhLHe"
      }
    },
    {
      "cell_type": "markdown",
      "source": [
        "17. Describe the time complexity of accessing elements in a dictionary\n",
        "\n",
        "Ans. 0(1):constant time is the time complexity of accessing elements in a dictionary using hashing"
      ],
      "metadata": {
        "id": "dLmsZbB3iQyp"
      }
    },
    {
      "cell_type": "markdown",
      "source": [
        "18. In what situations are lists preferred over dictionaries\n",
        "\n",
        "Ans. List is preferred whenever indexed access is preferable and list is simple as compared to dictionaries"
      ],
      "metadata": {
        "id": "IrQoYuTwjM8K"
      }
    },
    {
      "cell_type": "markdown",
      "source": [
        "19. Why are dictionaries considered unordered, and how does that affect data retrieval\n",
        "\n",
        "Ans. As dictioanries are hash table based structured, so it is considered as unordered. Although, after Python 3.7 dictionaries maintain insertion order, but they are still considered order-independent"
      ],
      "metadata": {
        "id": "L8PMGsmtj5st"
      }
    },
    {
      "cell_type": "markdown",
      "source": [
        "20. Explain the difference between a list and a dictionary in terms of data retrieval.\n",
        "\n",
        "Ans. Data retrival in list is based on indexing while in dictinaries it is done using keys"
      ],
      "metadata": {
        "id": "PbWaKjE7kmYs"
      }
    },
    {
      "cell_type": "code",
      "source": [
        "#Practical\n",
        "#1. Write a code to create a string with your name and print it\n",
        "\n",
        "my_name = \"Anupam Kumar\"\n",
        "print(my_name)"
      ],
      "metadata": {
        "colab": {
          "base_uri": "https://localhost:8080/"
        },
        "id": "wreQRJR3klfr",
        "outputId": "17e77325-abea-4a01-e956-4c4290eb8921"
      },
      "execution_count": 1,
      "outputs": [
        {
          "output_type": "stream",
          "name": "stdout",
          "text": [
            "Anupam Kumar\n"
          ]
        }
      ]
    },
    {
      "cell_type": "code",
      "source": [
        "#2. Write a code to find the length of the string \"Hello World\"\n",
        "\n",
        "s= \"Hello World\"\n",
        "len(s) #len is used to find the length of a string"
      ],
      "metadata": {
        "colab": {
          "base_uri": "https://localhost:8080/"
        },
        "id": "Q9cQB8PKnJoR",
        "outputId": "0fa07eae-b313-4e2d-c97a-c1d7fc4eeb4b"
      },
      "execution_count": 3,
      "outputs": [
        {
          "output_type": "execute_result",
          "data": {
            "text/plain": [
              "11"
            ]
          },
          "metadata": {},
          "execution_count": 3
        }
      ]
    },
    {
      "cell_type": "code",
      "source": [
        "#3. Write a code to slice the first 3 characters from the string \"Python Programming\"\n",
        "\n",
        "s=\"Python Programming\"\n",
        "a=s[:3]\n",
        "print(f\"First 3 characters are {a}\")"
      ],
      "metadata": {
        "colab": {
          "base_uri": "https://localhost:8080/"
        },
        "id": "XT67WIFjnbTW",
        "outputId": "c390dbc1-0a48-4629-8eaf-f85b45af09be"
      },
      "execution_count": 8,
      "outputs": [
        {
          "output_type": "stream",
          "name": "stdout",
          "text": [
            "First 3 characters are Pyt\n"
          ]
        }
      ]
    },
    {
      "cell_type": "code",
      "source": [
        "#4. Write a code to convert the string \"hello\" to uppercase\n",
        "\n",
        "s=\"hello\"\n",
        "a=s.upper()\n",
        "print(a)"
      ],
      "metadata": {
        "colab": {
          "base_uri": "https://localhost:8080/"
        },
        "id": "YkicSTXVpF-3",
        "outputId": "8b8aaebd-ccf3-49ea-ff86-40b0f1e7f69f"
      },
      "execution_count": 11,
      "outputs": [
        {
          "output_type": "stream",
          "name": "stdout",
          "text": [
            "HELLO\n"
          ]
        }
      ]
    },
    {
      "cell_type": "code",
      "source": [
        "#5.  Write a code to replace the word \"apple\" with \"orange\" in the string \"I like apple\"\n",
        "\n",
        "s=\"I like apple\"\n",
        "a=s.replace(\"apple\",\"orange\")\n",
        "print(f\"The new string is: {a}\")"
      ],
      "metadata": {
        "colab": {
          "base_uri": "https://localhost:8080/"
        },
        "id": "UPsTAn0Dpzz_",
        "outputId": "8d43e401-1532-471c-bda7-18e3f567e30d"
      },
      "execution_count": 13,
      "outputs": [
        {
          "output_type": "stream",
          "name": "stdout",
          "text": [
            "The new string is: I like orange\n"
          ]
        }
      ]
    },
    {
      "cell_type": "code",
      "source": [
        "#6. Write a code to create a list with numbers 1 to 5 and print it\n",
        "\n",
        "lis=[1,2,3,4,5]\n",
        "print(lis)"
      ],
      "metadata": {
        "colab": {
          "base_uri": "https://localhost:8080/"
        },
        "id": "bfNdVyGpqzrm",
        "outputId": "8fb99e0a-fd2b-4fb5-c322-7c95e6446fba"
      },
      "execution_count": 14,
      "outputs": [
        {
          "output_type": "stream",
          "name": "stdout",
          "text": [
            "[1, 2, 3, 4, 5]\n"
          ]
        }
      ]
    },
    {
      "cell_type": "code",
      "source": [
        "#7. Write a code to append the number 10 to the list [1, 2, 3, 4]\n",
        "\n",
        "lis = [1,2,3,4]\n",
        "lis.append(10)\n",
        "print(lis)"
      ],
      "metadata": {
        "colab": {
          "base_uri": "https://localhost:8080/"
        },
        "id": "hXiGXXjNrRi4",
        "outputId": "7bef43dc-6055-40cf-bcd7-044d343f0c7f"
      },
      "execution_count": 15,
      "outputs": [
        {
          "output_type": "stream",
          "name": "stdout",
          "text": [
            "[1, 2, 3, 4, 10]\n"
          ]
        }
      ]
    },
    {
      "cell_type": "code",
      "source": [
        "#8. Write a code to remove the number 3 from the list [1, 2, 3, 4, 5]\n",
        "\n",
        "lis=[1,2,3,4,5]\n",
        "lis.remove(3)\n",
        "print(lis)"
      ],
      "metadata": {
        "colab": {
          "base_uri": "https://localhost:8080/"
        },
        "id": "pDVXUgCSrklP",
        "outputId": "a7f5e7b3-b524-4ba7-cdfe-375bc8e3e2d2"
      },
      "execution_count": 16,
      "outputs": [
        {
          "output_type": "stream",
          "name": "stdout",
          "text": [
            "[1, 2, 4, 5]\n"
          ]
        }
      ]
    },
    {
      "cell_type": "code",
      "source": [
        "#9. Write a code to access the second element in the list ['a', 'b', 'c', 'd']\n",
        "\n",
        "lis=['a','b','c','d']\n",
        "a=lis[1]\n",
        "print(a)"
      ],
      "metadata": {
        "colab": {
          "base_uri": "https://localhost:8080/"
        },
        "id": "vnpPCGHhr2gU",
        "outputId": "946c0e04-d568-4f0a-a03e-82c4233c314a"
      },
      "execution_count": 18,
      "outputs": [
        {
          "output_type": "stream",
          "name": "stdout",
          "text": [
            "b\n"
          ]
        }
      ]
    },
    {
      "cell_type": "code",
      "source": [
        "#10. Write a code to reverse the list [10, 20, 30, 40, 50]\n",
        "\n",
        "lis = [10, 20, 30, 40, 50]\n",
        "reversed_lis = lis[::-1]\n",
        "print(f\"Reversed list is {reversed_lis} \")"
      ],
      "metadata": {
        "colab": {
          "base_uri": "https://localhost:8080/"
        },
        "id": "MgnCmC3SsV4d",
        "outputId": "5517300f-4c3f-4045-bbc7-4891d65cdc96"
      },
      "execution_count": 19,
      "outputs": [
        {
          "output_type": "stream",
          "name": "stdout",
          "text": [
            "Reversed list is [50, 40, 30, 20, 10] \n"
          ]
        }
      ]
    },
    {
      "cell_type": "code",
      "source": [
        "#11. Write a code to create a tuple with the elements 100, 200, 300 and print it\n",
        "\n",
        "tup = (100, 200, 300)\n",
        "print(tup)"
      ],
      "metadata": {
        "colab": {
          "base_uri": "https://localhost:8080/"
        },
        "id": "xjCcsKg2t-Bz",
        "outputId": "3d814834-0698-4c85-f21f-5591bff34c36"
      },
      "execution_count": 20,
      "outputs": [
        {
          "output_type": "stream",
          "name": "stdout",
          "text": [
            "(100, 200, 300)\n"
          ]
        }
      ]
    },
    {
      "cell_type": "code",
      "source": [
        "#12. Write a code to access the second-to-last element of the tuple ('red', 'green', 'blue', 'yellow')\n",
        "\n",
        "tup = ('red', 'green', 'blue', 'yellow')\n",
        "print(tup[-2])"
      ],
      "metadata": {
        "colab": {
          "base_uri": "https://localhost:8080/"
        },
        "id": "KhKA_WcFu07m",
        "outputId": "b875bf06-81bd-4f71-fec8-e87d1195a247"
      },
      "execution_count": 21,
      "outputs": [
        {
          "output_type": "stream",
          "name": "stdout",
          "text": [
            "blue\n"
          ]
        }
      ]
    },
    {
      "cell_type": "code",
      "source": [
        "#13. Write a code to find the minimum number in the tuple (10, 20, 5, 15)\n",
        "\n",
        "tup = (10, 20, 5, 15)\n",
        "a=min(tup)\n",
        "print(f\"Minimum number in the tuple is: {a}\")"
      ],
      "metadata": {
        "colab": {
          "base_uri": "https://localhost:8080/"
        },
        "id": "sboT-MT4vhs8",
        "outputId": "65dee5ab-4bc9-4e17-84c3-b8bfab0ee24b"
      },
      "execution_count": 23,
      "outputs": [
        {
          "output_type": "stream",
          "name": "stdout",
          "text": [
            "Minimum number in the tuple is: 5\n"
          ]
        }
      ]
    },
    {
      "cell_type": "code",
      "source": [
        "#14. Write a code to find the index of the element \"cat\" in the tuple ('dog', 'cat', 'rabbit')\n",
        "\n",
        "tup=('dog', 'cat', 'rabbit')\n",
        "index_of_cat = tup.index('cat')\n",
        "print(index_of_cat)"
      ],
      "metadata": {
        "colab": {
          "base_uri": "https://localhost:8080/"
        },
        "id": "vBBFH6UZvwHC",
        "outputId": "0eb6b3d1-5b82-400b-b1cf-aa0cf1460872"
      },
      "execution_count": 26,
      "outputs": [
        {
          "output_type": "stream",
          "name": "stdout",
          "text": [
            "1\n"
          ]
        }
      ]
    },
    {
      "cell_type": "code",
      "source": [
        "#15.  Write a code to create a tuple containing three different fruits and check if \"kiwi\" is in it\n",
        "\n",
        "tup=(\"apple\", \"orange\", \"kiwi\")\n",
        "if \"kiwi\" in tup:\n",
        "  print(\"Kiwi is present\")\n",
        "else:\n",
        "  print(\"Need to buy Kiwi\")"
      ],
      "metadata": {
        "colab": {
          "base_uri": "https://localhost:8080/"
        },
        "id": "ek14RXk6whnH",
        "outputId": "4a1bfad1-8275-4008-823c-6106f514abe9"
      },
      "execution_count": 31,
      "outputs": [
        {
          "output_type": "stream",
          "name": "stdout",
          "text": [
            "Kiwi is present\n"
          ]
        }
      ]
    },
    {
      "cell_type": "code",
      "source": [
        "#16.  Write a code to create a set with the elements 'a', 'b', 'c' and print it.\n",
        "\n",
        "s = {'a', 'b', 'c'}\n",
        "print(s)"
      ],
      "metadata": {
        "colab": {
          "base_uri": "https://localhost:8080/"
        },
        "id": "l8ZyoInfx01o",
        "outputId": "9052614d-d46a-4f0d-83de-da61f2d91980"
      },
      "execution_count": 33,
      "outputs": [
        {
          "output_type": "stream",
          "name": "stdout",
          "text": [
            "{'c', 'a', 'b'}\n"
          ]
        }
      ]
    },
    {
      "cell_type": "code",
      "source": [
        "#17. Write a code to clear all elements from the set {1, 2, 3, 4, 5}\n",
        "\n",
        "s = {1, 2, 3, 4, 5}\n",
        "s.clear()\n",
        "print(s)"
      ],
      "metadata": {
        "colab": {
          "base_uri": "https://localhost:8080/"
        },
        "id": "8XEgpRO9y86Z",
        "outputId": "faf09b98-94f3-4a47-be66-fca2c5196ed1"
      },
      "execution_count": 34,
      "outputs": [
        {
          "output_type": "stream",
          "name": "stdout",
          "text": [
            "set()\n"
          ]
        }
      ]
    },
    {
      "cell_type": "code",
      "source": [
        "#18. Write a code to remove the element 4 from the set {1, 2, 3, 4}\n",
        "\n",
        "s = {1, 2, 3, 4}\n",
        "s.remove(4)\n",
        "print(s)"
      ],
      "metadata": {
        "colab": {
          "base_uri": "https://localhost:8080/"
        },
        "id": "DrVGr6KgzUpj",
        "outputId": "715a651c-2a59-4a75-f0a4-16c7ee6fc646"
      },
      "execution_count": 35,
      "outputs": [
        {
          "output_type": "stream",
          "name": "stdout",
          "text": [
            "{1, 2, 3}\n"
          ]
        }
      ]
    },
    {
      "cell_type": "code",
      "source": [
        "#19.  Write a code to find the union of two sets {1, 2, 3} and {3, 4, 5}\n",
        "\n",
        "s1 = {1, 2, 3}\n",
        "s2 = {3, 4, 5}\n",
        "print(s1.union(s2))\n",
        "print (s1 | s2)"
      ],
      "metadata": {
        "colab": {
          "base_uri": "https://localhost:8080/"
        },
        "id": "lNXfzwLR0Qkx",
        "outputId": "0188093a-1ab0-4856-8dc3-bd1d6be2b72e"
      },
      "execution_count": 36,
      "outputs": [
        {
          "output_type": "stream",
          "name": "stdout",
          "text": [
            "{1, 2, 3, 4, 5}\n",
            "{1, 2, 3, 4, 5}\n"
          ]
        }
      ]
    },
    {
      "cell_type": "code",
      "source": [
        "#20.  Write a code to find the intersection of two sets {1, 2, 3} and {2, 3, 4}\n",
        "\n",
        "s1 = {1, 2, 3}\n",
        "s2 = {2, 3, 4}\n",
        "print(s1.intersection(s2))\n",
        "print (s1 & s2)"
      ],
      "metadata": {
        "colab": {
          "base_uri": "https://localhost:8080/"
        },
        "id": "WZDF1DFi0lp5",
        "outputId": "72a61747-e9e2-4222-f29e-18df00cc9692"
      },
      "execution_count": 37,
      "outputs": [
        {
          "output_type": "stream",
          "name": "stdout",
          "text": [
            "{2, 3}\n",
            "{2, 3}\n"
          ]
        }
      ]
    },
    {
      "cell_type": "code",
      "source": [
        "#21. Write a code to create a dictionary with the keys \"name\", \"age\", and \"city\", and print it\n",
        "\n",
        "dic = {\"name\":\"Anupam\",\"age\":27,\"city\":\"jamshedpur\"}\n",
        "print(dic)"
      ],
      "metadata": {
        "colab": {
          "base_uri": "https://localhost:8080/"
        },
        "id": "Bbf_K_uh06Re",
        "outputId": "af9a3b5c-1345-4429-99f1-6b0c087af85a"
      },
      "execution_count": 38,
      "outputs": [
        {
          "output_type": "stream",
          "name": "stdout",
          "text": [
            "{'name': 'Anupam', 'age': 27, 'city': 'jamshedpur'}\n"
          ]
        }
      ]
    },
    {
      "cell_type": "code",
      "source": [
        "#22. Write a code to add a new key-value pair \"country\": \"USA\" to the dictionary {'name': 'John', 'age': 25}\n",
        "\n",
        "dic = {'name':'John', 'age':25}\n",
        "dic[\"country\"]=\"USA\"\n",
        "print(dic)\n"
      ],
      "metadata": {
        "colab": {
          "base_uri": "https://localhost:8080/"
        },
        "id": "_udpTdLG1Reg",
        "outputId": "fac09351-f2fb-4590-d3dd-5c9ab650084d"
      },
      "execution_count": 41,
      "outputs": [
        {
          "output_type": "stream",
          "name": "stdout",
          "text": [
            "{'name': 'John', 'age': 25, 'country': 'USA'}\n"
          ]
        }
      ]
    },
    {
      "cell_type": "code",
      "source": [
        "#23. Write a code to access the value associated with the key \"name\" in the dictionary {'name': 'Alice', 'age': 30}\n",
        "\n",
        "dic = {'name':'Alice', 'age':30}\n",
        "name_value=dic['name']\n",
        "print(name_value)"
      ],
      "metadata": {
        "colab": {
          "base_uri": "https://localhost:8080/"
        },
        "id": "OqVSybTL2B1w",
        "outputId": "312a8a2c-2a11-476c-82a0-b6046f86a0fe"
      },
      "execution_count": 44,
      "outputs": [
        {
          "output_type": "stream",
          "name": "stdout",
          "text": [
            "Alice\n"
          ]
        }
      ]
    },
    {
      "cell_type": "code",
      "source": [
        "#24.  Write a code to remove the key \"age\" from the dictionary {'name': 'Bob', 'age': 22, 'city': 'New York'}\n",
        "\n",
        "dic = {'name': 'Bob', 'age': 22, 'city': 'New York'}\n",
        "#dic.pop('age')\n",
        "del dic['age']\n",
        "print(dic)"
      ],
      "metadata": {
        "colab": {
          "base_uri": "https://localhost:8080/"
        },
        "id": "ueST_7CH3KyZ",
        "outputId": "5e25e802-2369-4e6e-93eb-b2817878a26c"
      },
      "execution_count": 47,
      "outputs": [
        {
          "output_type": "stream",
          "name": "stdout",
          "text": [
            "{'name': 'Bob', 'city': 'New York'}\n"
          ]
        }
      ]
    },
    {
      "cell_type": "code",
      "source": [
        "#25. Write a code to check if the key \"city\" exists in the dictionary {'name': 'Alice', 'city': 'Paris'}\n",
        "\n",
        "dic = {'name': 'Alice', 'city': 'Paris'}\n",
        "if 'city' in dic:\n",
        "  print(\"Key is present\")\n",
        "else:\n",
        "  print(\"Key is absent\")"
      ],
      "metadata": {
        "colab": {
          "base_uri": "https://localhost:8080/"
        },
        "id": "DLmgFOLP4UpV",
        "outputId": "38a822f9-7be0-415f-ddfb-a3ac4fb16162"
      },
      "execution_count": 48,
      "outputs": [
        {
          "output_type": "stream",
          "name": "stdout",
          "text": [
            "Key is present\n"
          ]
        }
      ]
    },
    {
      "cell_type": "code",
      "source": [
        "#26. Write a code to create a list, a tuple, and a dictionary, and print them all\n",
        "\n",
        "lis = [1,2,'anupam',2.5,[1,2,\"anupam\",3+5j],True]\n",
        "tup = (1,2,'anupam',2.5,(1,2,'anupam',3+5j),True)\n",
        "dic = {'name':'anupam','age':28,'city':\"jamshedpur\",\"sex\":\"male\"}\n",
        "print(lis)\n",
        "print(tup)\n",
        "print(dic)\n"
      ],
      "metadata": {
        "colab": {
          "base_uri": "https://localhost:8080/"
        },
        "id": "wEjtqmiJ5m3A",
        "outputId": "0f7d8f78-0ea3-4502-c1e3-578cb6363c84"
      },
      "execution_count": 50,
      "outputs": [
        {
          "output_type": "stream",
          "name": "stdout",
          "text": [
            "[1, 2, 'anupam', 2.5, [1, 2, 'anupam', (3+5j)], True]\n",
            "(1, 2, 'anupam', 2.5, (1, 2, 'anupam', (3+5j)), True)\n",
            "{'name': 'anupam', 'age': 28, 'city': 'jamshedpur', 'sex': 'male'}\n"
          ]
        }
      ]
    },
    {
      "cell_type": "code",
      "source": [
        "#27. Write a code to create a list of 5 random numbers between 1 and 100, sort it in ascending order, and print the result.(replaced)\n",
        "\n",
        "lis = [3, 76, 45, 90, 2]\n",
        "lis.sort()\n",
        "print(lis)\n"
      ],
      "metadata": {
        "colab": {
          "base_uri": "https://localhost:8080/"
        },
        "id": "diUw8L9R6hOK",
        "outputId": "4d5361bf-b77b-4182-f471-c258acdf1b1f"
      },
      "execution_count": 57,
      "outputs": [
        {
          "output_type": "stream",
          "name": "stdout",
          "text": [
            "[2, 3, 45, 76, 90]\n"
          ]
        }
      ]
    },
    {
      "cell_type": "code",
      "source": [
        "#28. Write a code to create a list with strings and print the element at the third index\n",
        "\n",
        "lis=[\"anupam\",\"anup\",\"rupam\",\"abhi\",\"aman\",\"kumar\"]\n",
        "third_index = lis[3]\n",
        "print(f\"The third index of the list is {third_index}\")\n"
      ],
      "metadata": {
        "colab": {
          "base_uri": "https://localhost:8080/"
        },
        "id": "ZZTLnqXO6_lZ",
        "outputId": "39c35d41-11b9-43fa-d3dd-efbddee9078c"
      },
      "execution_count": 60,
      "outputs": [
        {
          "output_type": "stream",
          "name": "stdout",
          "text": [
            "The third index of the list is abhi\n"
          ]
        }
      ]
    },
    {
      "cell_type": "code",
      "source": [
        "#29. Write a code to combine two dictionaries into one and print the result\n",
        "\n",
        "dic1 = {\"name\":\"anupam\", \"age\":28}\n",
        "dic2 = {\"course\":\"DA\", \"duration\":6}\n",
        "dic1.update(dic2)\n",
        "print(dic1)"
      ],
      "metadata": {
        "colab": {
          "base_uri": "https://localhost:8080/"
        },
        "id": "CrCHdJ4g89rJ",
        "outputId": "14f84c7a-4ac1-4644-e791-bf7113d94e40"
      },
      "execution_count": 64,
      "outputs": [
        {
          "output_type": "stream",
          "name": "stdout",
          "text": [
            "{'name': 'anupam', 'age': 28, 'course': 'DA', 'duration': 6}\n"
          ]
        }
      ]
    },
    {
      "cell_type": "code",
      "source": [
        "#30.  Write a code to convert a list of strings into a set\n",
        "\n",
        "\n",
        "lis=[\"anupam\",\"anup\",\"rupam\",\"abhi\",\"aman\",\"anupam\"]\n",
        "lis_set = set(lis)\n",
        "print(lis_set)"
      ],
      "metadata": {
        "colab": {
          "base_uri": "https://localhost:8080/"
        },
        "id": "mgSibSeH9v5t",
        "outputId": "6bdcf052-6d74-4d8c-9b07-8dc42321f05f"
      },
      "execution_count": 65,
      "outputs": [
        {
          "output_type": "stream",
          "name": "stdout",
          "text": [
            "{'abhi', 'rupam', 'anup', 'anupam', 'aman'}\n"
          ]
        }
      ]
    },
    {
      "cell_type": "code",
      "source": [],
      "metadata": {
        "id": "ICggkIuS-rVJ"
      },
      "execution_count": null,
      "outputs": []
    }
  ]
}